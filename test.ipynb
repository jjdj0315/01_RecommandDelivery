{
 "cells": [
  {
   "cell_type": "code",
   "execution_count": 3,
   "id": "eb388a9e",
   "metadata": {},
   "outputs": [
    {
     "name": "stderr",
     "output_type": "stream",
     "text": [
      "c:\\02_practice\\01_RecommandDelivery\\.venv\\Lib\\site-packages\\tqdm\\auto.py:21: TqdmWarning: IProgress not found. Please update jupyter and ipywidgets. See https://ipywidgets.readthedocs.io/en/stable/user_install.html\n",
      "  from .autonotebook import tqdm as notebook_tqdm\n"
     ]
    }
   ],
   "source": [
    "import json\n",
    "import os\n",
    "import requests\n",
    "import sys\n",
    "sys.path.insert(0, \"..\")\n",
    "\n",
    "import gradio as gr\n",
    "from openai import OpenAI"
   ]
  },
  {
   "cell_type": "code",
   "execution_count": null,
   "id": "440b72ca",
   "metadata": {},
   "outputs": [],
   "source": [
    "SYSTEM_PROMPT = f\"\"\"당신의 이름은 '메뉴뚝딱AI'이며 당신의 역할은 배달의민족이라는 음식 주문 모바일 어플에서 리뷰 텍스트 기반으로 메뉴를 추천해주는 것입니다.\n",
    "실제 배달의민족 어플 내 주문이 가능한 메뉴 및 음식점을 추천해줘야 하며 단순한 메뉴명을 추천해줄 수 없습니다. (ex. 해장국, 파스타)\n",
    "추천 가능한 메뉴는 recommend 함수를 통해 결과를 받아 올 수 있습니다.\n",
    "당신은 사용자의 발화를 기반으로 메뉴 추천 API를 호출하여 API 결과를 기반으로 사용자에게 최상의 추천 결과를 제공해야 합니다.\n",
    "\"\"\"\n",
    "\n",
    "\n",
    "MESSAGES = [\n",
    "    {\n",
    "        'role': 'system',\n",
    "        'content': SYSTEM_PROMPT\n",
    "    }\n",
    "]\n",
    "\n",
    "\n",
    "TOOLS = [\n",
    "    {\n",
    "        \"type\": \"function\",\n",
    "        \"function\": {\n",
    "            \"name\": \"recommend\",\n",
    "            \"description\": \"사용자 발화 기반으로 메뉴 추천 API를 호출합니다. 오로지 이 함수 결과로만 메뉴 추천되어야 합니다. 사용자 발화가 없는 경우 빈 리스트가 반환 될 수 있습니다.\",\n",
    "            \"parameters\": {\n",
    "                \"type\": \"object\",\n",
    "                \"properties\": {\n",
    "                    \"query_text\": {\n",
    "                        \"type\": \"string\",\n",
    "                        \"description\": \"사용자 발화 텍스트 원문\",\n",
    "                    },\n",
    "                },\n",
    "                \"required\": [\"query_text\"],\n",
    "                \"additionalProperties\": False,\n",
    "            },\n",
    "        }\n",
    "    }\n",
    "]\n",
    "\n",
    "\n",
    "def recommend(query_text):\n",
    "    url = \"http://localhost:8000/recommend\"\n",
    "    response = requests.post(url, json={\"query_text\": query_text})\n",
    "    return response.json()\n",
    "\n",
    "\n",
    "def call_openai(prompt, temperature=0.0, model='gpt-4o-2024-08-06'):\n",
    "    client = OpenAI(api_key=os.environ['OPENAI_API_KEY'])\n",
    "\n",
    "    MESSAGES.append(\n",
    "        {\n",
    "            'role': 'user',\n",
    "            'content': prompt\n",
    "        }\n",
    "    )\n",
    "    print(MESSAGES)\n",
    "    completion = client.chat.completions.create(\n",
    "        model=model,\n",
    "        messages=MESSAGES,\n",
    "        tools=TOOLS\n",
    "    )\n",
    "\n",
    "    if completion.choices[0].finish_reason == \"tool_calls\":\n",
    "        tool_calls = completion.choices[0].message.tool_calls\n",
    "        tool_name = tool_calls[0].function.name\n",
    "        tool_args = tool_calls[0].function.arguments\n",
    "        tool_id = tool_calls[0].id\n",
    "        MESSAGES.append(\n",
    "            {\n",
    "                \"role\": \"assistant\",\n",
    "                \"content\": None,\n",
    "                \"tool_calls\": [\n",
    "                    {\n",
    "                        \"id\": tool_id,\n",
    "                        \"type\": \"function\",\n",
    "                        \"function\": {\n",
    "                            \"name\": tool_name,\n",
    "                            \"arguments\": tool_args\n",
    "                        }\n",
    "                    }\n",
    "                ]\n",
    "            }\n",
    "        )\n",
    "        print(MESSAGES)\n",
    "        tool_result = recommend(**json.loads(tool_args))\n",
    "        MESSAGES.append(\n",
    "            {\n",
    "                \"role\": \"tool\",\n",
    "                \"content\": json.dumps(tool_result, ensure_ascii=False),\n",
    "                \"tool_call_id\": tool_id\n",
    "            }\n",
    "        )\n",
    "        print(MESSAGES)\n",
    "        completion = client.chat.completions.create(\n",
    "            model=model,\n",
    "            messages=MESSAGES,\n",
    "            tools=TOOLS\n",
    "        )\n",
    "        print(completion)\n",
    "    MESSAGES.append(\n",
    "        {\n",
    "            \"role\": \"assistant\",\n",
    "            \"content\": completion.choices[0].message.content\n",
    "        }\n",
    "    )\n",
    "    print(completion)\n",
    "    return completion.choices[0].message.content\n"
   ]
  },
  {
   "cell_type": "code",
   "execution_count": 6,
   "id": "50239933",
   "metadata": {},
   "outputs": [
    {
     "name": "stdout",
     "output_type": "stream",
     "text": [
      "[{'role': 'system', 'content': \"당신의 이름은 '메뉴뚝딱AI'이며 당신의 역할은 배달의민족이라는 음식 주문 모바일 어플에서 리뷰 텍스트 기반으로 메뉴를 추천해주는 것입니다.\\n실제 배달의민족 어플 내 주문이 가능한 메뉴 및 음식점을 추천해줘야 하며 단순한 메뉴명을 추천해줄 수 없습니다. (ex. 해장국, 파스타)\\n추천 가능한 메뉴는 recommend 함수를 통해 결과를 받아 올 수 있습니다.\\n당신은 사용자의 발화를 기반으로 메뉴 추천 API를 호출하여 API 결과를 기반으로 사용자에게 최상의 추천 결과를 제공해야 합니다.\\n\"}, {'role': 'user', 'content': '안녕하세요'}]\n"
     ]
    },
    {
     "data": {
      "text/plain": [
       "'안녕하세요! 무엇을 도와드릴까요? 맛있는 메뉴 추천이 필요하신가요?'"
      ]
     },
     "execution_count": 6,
     "metadata": {},
     "output_type": "execute_result"
    }
   ],
   "source": [
    "call_openai('안녕하세요')"
   ]
  },
  {
   "cell_type": "code",
   "execution_count": null,
   "id": "a2a92412",
   "metadata": {},
   "outputs": [],
   "source": []
  }
 ],
 "metadata": {
  "kernelspec": {
   "display_name": ".venv",
   "language": "python",
   "name": "python3"
  },
  "language_info": {
   "codemirror_mode": {
    "name": "ipython",
    "version": 3
   },
   "file_extension": ".py",
   "mimetype": "text/x-python",
   "name": "python",
   "nbconvert_exporter": "python",
   "pygments_lexer": "ipython3",
   "version": "3.12.9"
  }
 },
 "nbformat": 4,
 "nbformat_minor": 5
}
