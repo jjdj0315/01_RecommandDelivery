{
 "cells": [
  {
   "cell_type": "code",
   "execution_count": 2,
   "metadata": {},
   "outputs": [],
   "source": [
    "import os\n",
    "from openai import OpenAI\n",
    "\n",
    "client = OpenAI(api_key=os.environ[\"OPENAI_API_KEY\"])"
   ]
  },
  {
   "cell_type": "code",
   "execution_count": null,
   "metadata": {},
   "outputs": [],
   "source": [
    "import requests\n",
    "\n",
    "SYSTEM_PROMPT = f\"\"\"당신의 이름은 '메뉴뚝딱AI'이며 당신의 역할은 배달의민족이라는 음식 주문 모바일 어플에서 리뷰 텍스트 기반으로 메뉴를 추천해주는 것입니다.\n",
    "실제 배달의민족 어플 내 주문이 가능한 메뉴 및 음식점을 추천해줘야 하며 단순한 메뉴명을 추천해줄 수 없습니다. (ex. 해장국, 파스타)\n",
    "추천 가능한 메뉴는 recommend 함수를 통해 결과를 받아 올 수 있습니다.\n",
    "당신은 사용자의 발화를 기반으로 메뉴 추천 API를 호출하여 API 결과를 기반으로 사용자에게 최상의 추천 결과를 제공해야 합니다.\n",
    "\"\"\"\n",
    "\n",
    "MESSAGES = [\n",
    "    {\n",
    "        'role': 'system',\n",
    "        'content': SYSTEM_PROMPT\n",
    "    }\n",
    "]\n",
    "\n",
    "def recommend(query_text):\n",
    "    url = \"http://localhost:8000/recommend\"\n",
    "    response = requests.post(url, json={\"query_text\": query_text})\n",
    "    return response.json()\n",
    "\n",
    "\n",
    "tools = [\n",
    "    {\n",
    "        \"type\": \"function\",\n",
    "        \"function\": {\n",
    "            \"name\": \"recommend\",\n",
    "            \"description\": \"사용자 발화 기반으로 메뉴 추천 API를 호출합니다. 오로지 이 함수 결과로만 메뉴 추천되어야 합니다. 사용자 발화가 없는 경우 빈 리스트가 반환 될 수 있습니다.\",\n",
    "            \"parameters\": {\n",
    "                \"type\": \"object\",\n",
    "                \"properties\": {\n",
    "                    \"query_text\": {\n",
    "                        \"type\": \"string\",\n",
    "                        \"description\": \"사용자 발화 텍스트 원문\",\n",
    "                    },\n",
    "                },\n",
    "                \"required\": [\"query_text\"],\n",
    "                \"additionalProperties\": False,\n",
    "            },\n",
    "        }\n",
    "    }\n",
    "]"
   ]
  },
  {
   "cell_type": "code",
   "execution_count": 4,
   "metadata": {},
   "outputs": [
    {
     "data": {
      "text/plain": [
       "ChatCompletion(id='chatcmpl-BScp4tPjx6UD47G5FYVKodoXhFBjW', choices=[Choice(finish_reason='stop', index=0, logprobs=None, message=ChatCompletionMessage(content='안녕하세요! 무엇을 도와드릴까요? 해장이 필요하시거나 다이어트 중이신가요? 필요하신 메뉴가 있다면 말씀해 주세요! 적절한 메뉴를 추천해드리겠습니다.', refusal=None, role='assistant', function_call=None, tool_calls=None, annotations=[]))], created=1746162118, model='gpt-4o-2024-08-06', object='chat.completion', service_tier='default', system_fingerprint='fp_90122d973c', usage=CompletionUsage(completion_tokens=49, prompt_tokens=244, total_tokens=293, prompt_tokens_details={'cached_tokens': 0, 'audio_tokens': 0}, completion_tokens_details={'reasoning_tokens': 0, 'audio_tokens': 0, 'accepted_prediction_tokens': 0, 'rejected_prediction_tokens': 0}))"
      ]
     },
     "execution_count": 4,
     "metadata": {},
     "output_type": "execute_result"
    }
   ],
   "source": [
    "MESSAGES.append(\n",
    "    {\"role\": \"user\", \"content\": \"안녕\"}\n",
    ")\n",
    "\n",
    "completion = client.chat.completions.create(\n",
    "    messages=MESSAGES,\n",
    "    model=\"gpt-4o-2024-08-06\",\n",
    "    tools=tools\n",
    ")\n",
    "\n",
    "completion"
   ]
  },
  {
   "cell_type": "code",
   "execution_count": 5,
   "metadata": {},
   "outputs": [],
   "source": [
    "if completion.choices[0].finish_reason == \"tool_calls\":\n",
    "    print('function calling lets go')\n",
    "else:\n",
    "    MESSAGES.append(\n",
    "        {\"role\": \"assistant\", \"content\": completion.choices[0].message.content}\n",
    "    )"
   ]
  },
  {
   "cell_type": "code",
   "execution_count": 6,
   "metadata": {},
   "outputs": [
    {
     "data": {
      "text/plain": [
       "[{'role': 'system',\n",
       "  'content': \"당신의 이름은 '메뉴뚝딱AI'이며 당신의 역할은 배달의민족이라는 음식 주문 모바일 어플에서 리뷰 텍스트 기반으로 메뉴를 추천해주는 것입니다.\\n실제 배달의민족 어플 내 주문이 가능한 메뉴 및 음식점을 추천해줘야 하며 단순한 메뉴명을 추천해줄 수 없습니다. (ex. 해장국, 파스타)\\n추천 가능한 메뉴는 recommend 함수를 통해 결과를 받아 올 수 있습니다.\\n당신은 사용자의 발화를 기반으로 메뉴 추천 API를 호출하여 API 결과를 기반으로 사용자에게 최상의 추천 결과를 제공해야 합니다.\\n\"},\n",
       " {'role': 'user', 'content': '안녕'},\n",
       " {'role': 'assistant',\n",
       "  'content': '안녕하세요! 무엇을 도와드릴까요? 해장이 필요하시거나 다이어트 중이신가요? 필요하신 메뉴가 있다면 말씀해 주세요! 적절한 메뉴를 추천해드리겠습니다.'}]"
      ]
     },
     "execution_count": 6,
     "metadata": {},
     "output_type": "execute_result"
    }
   ],
   "source": [
    "MESSAGES"
   ]
  },
  {
   "cell_type": "code",
   "execution_count": 7,
   "metadata": {},
   "outputs": [
    {
     "data": {
      "text/plain": [
       "ChatCompletion(id='chatcmpl-BScpKLRSAm90zVTlmmivUYuCaZKvj', choices=[Choice(finish_reason='tool_calls', index=0, logprobs=None, message=ChatCompletionMessage(content=None, refusal=None, role='assistant', function_call=None, tool_calls=[ChatCompletionMessageToolCall(id='call_eM0jjthCtKQdQJKVHxTGzNZe', function=Function(arguments='{\"query_text\":\"해장\"}', name='recommend'), type='function')], annotations=[]))], created=1746162134, model='gpt-4o-2024-08-06', object='chat.completion', service_tier='default', system_fingerprint='fp_90122d973c', usage=CompletionUsage(completion_tokens=17, prompt_tokens=307, total_tokens=324, prompt_tokens_details={'cached_tokens': 0, 'audio_tokens': 0}, completion_tokens_details={'reasoning_tokens': 0, 'audio_tokens': 0, 'accepted_prediction_tokens': 0, 'rejected_prediction_tokens': 0}))"
      ]
     },
     "execution_count": 7,
     "metadata": {},
     "output_type": "execute_result"
    }
   ],
   "source": [
    "MESSAGES.append(\n",
    "    {\"role\": \"user\", \"content\": \"해장 메뉴 추천해줄레?\"}\n",
    ")\n",
    "\n",
    "completion = client.chat.completions.create(\n",
    "    messages=MESSAGES,\n",
    "    model=\"gpt-4o-2024-08-06\",\n",
    "    tools=tools\n",
    ")\n",
    "\n",
    "completion"
   ]
  },
  {
   "cell_type": "code",
   "execution_count": 8,
   "metadata": {},
   "outputs": [
    {
     "name": "stdout",
     "output_type": "stream",
     "text": [
      "function calling lets go\n"
     ]
    }
   ],
   "source": [
    "import json\n",
    "\n",
    "if completion.choices[0].finish_reason == \"tool_calls\":\n",
    "    tool_calls = completion.choices[0].message.tool_calls\n",
    "    tool_name = tool_calls[0].function.name\n",
    "    tool_args = tool_calls[0].function.arguments\n",
    "    tool_id = tool_calls[0].id\n",
    "    print('function calling lets go')\n",
    "else:\n",
    "    MESSAGES.append(\n",
    "        {\"role\": \"assistant\", \"content\": completion.choices[0].message.content}\n",
    "    )"
   ]
  },
  {
   "cell_type": "code",
   "execution_count": 9,
   "metadata": {},
   "outputs": [
    {
     "data": {
      "text/plain": [
       "ChatCompletionMessageToolCall(id='call_eM0jjthCtKQdQJKVHxTGzNZe', function=Function(arguments='{\"query_text\":\"해장\"}', name='recommend'), type='function')"
      ]
     },
     "execution_count": 9,
     "metadata": {},
     "output_type": "execute_result"
    }
   ],
   "source": [
    "completion.choices[0].message.tool_calls[0]"
   ]
  },
  {
   "cell_type": "code",
   "execution_count": 10,
   "metadata": {},
   "outputs": [
    {
     "data": {
      "text/plain": [
       "[{'_id': '1133486_26',\n",
       "  'score': 0.5811076300414256,\n",
       "  'menu': '우동',\n",
       "  'restaurant': '중화요리현',\n",
       "  'url': 'https://www.yogiyo.co.kr/mobile/#/1133486/'},\n",
       " {'_id': '1015006_23',\n",
       "  'score': 0.5307030745275177,\n",
       "  'menu': '짬뽕',\n",
       "  'restaurant': '아성원',\n",
       "  'url': 'https://www.yogiyo.co.kr/mobile/#/1015006/'},\n",
       " {'_id': '25883_12',\n",
       "  'score': 0.5116151078788386,\n",
       "  'menu': '',\n",
       "  'restaurant': '중국성(가산동)',\n",
       "  'url': 'https://www.yogiyo.co.kr/mobile/#/25883/'}]"
      ]
     },
     "execution_count": 10,
     "metadata": {},
     "output_type": "execute_result"
    }
   ],
   "source": [
    "tool_result = recommend(**json.loads(tool_args))\n",
    "tool_result[:3]"
   ]
  },
  {
   "cell_type": "code",
   "execution_count": 11,
   "metadata": {},
   "outputs": [
    {
     "data": {
      "text/plain": [
       "'call_eM0jjthCtKQdQJKVHxTGzNZe'"
      ]
     },
     "execution_count": 11,
     "metadata": {},
     "output_type": "execute_result"
    }
   ],
   "source": [
    "tool_calls[0].id"
   ]
  },
  {
   "cell_type": "code",
   "execution_count": 12,
   "metadata": {},
   "outputs": [
    {
     "data": {
      "text/plain": [
       "[{'role': 'system',\n",
       "  'content': \"당신의 이름은 '메뉴뚝딱AI'이며 당신의 역할은 배달의민족이라는 음식 주문 모바일 어플에서 리뷰 텍스트 기반으로 메뉴를 추천해주는 것입니다.\\n실제 배달의민족 어플 내 주문이 가능한 메뉴 및 음식점을 추천해줘야 하며 단순한 메뉴명을 추천해줄 수 없습니다. (ex. 해장국, 파스타)\\n추천 가능한 메뉴는 recommend 함수를 통해 결과를 받아 올 수 있습니다.\\n당신은 사용자의 발화를 기반으로 메뉴 추천 API를 호출하여 API 결과를 기반으로 사용자에게 최상의 추천 결과를 제공해야 합니다.\\n\"},\n",
       " {'role': 'user', 'content': '안녕'},\n",
       " {'role': 'assistant',\n",
       "  'content': '안녕하세요! 무엇을 도와드릴까요? 해장이 필요하시거나 다이어트 중이신가요? 필요하신 메뉴가 있다면 말씀해 주세요! 적절한 메뉴를 추천해드리겠습니다.'},\n",
       " {'role': 'user', 'content': '해장 메뉴 추천해줄레?'}]"
      ]
     },
     "execution_count": 12,
     "metadata": {},
     "output_type": "execute_result"
    }
   ],
   "source": [
    "MESSAGES"
   ]
  },
  {
   "cell_type": "code",
   "execution_count": 13,
   "metadata": {},
   "outputs": [],
   "source": [
    "MESSAGES.append({\n",
    "    \"role\": \"assistant\",  # user does not work\n",
    "    \"content\": None,\n",
    "    \"tool_calls\": [\n",
    "        {\n",
    "            \"id\": tool_id,\n",
    "            \"type\": \"function\",\n",
    "            \"function\": {\n",
    "                \"name\": tool_name,\n",
    "                \"arguments\": tool_args\n",
    "            }\n",
    "        }\n",
    "    ]\n",
    "})"
   ]
  },
  {
   "cell_type": "code",
   "execution_count": 14,
   "metadata": {},
   "outputs": [
    {
     "data": {
      "text/plain": [
       "'{\"query_text\":\"해장\"}'"
      ]
     },
     "execution_count": 14,
     "metadata": {},
     "output_type": "execute_result"
    }
   ],
   "source": [
    "tool_args"
   ]
  },
  {
   "cell_type": "code",
   "execution_count": 15,
   "metadata": {},
   "outputs": [
    {
     "data": {
      "text/plain": [
       "[{'role': 'system',\n",
       "  'content': \"당신의 이름은 '메뉴뚝딱AI'이며 당신의 역할은 배달의민족이라는 음식 주문 모바일 어플에서 리뷰 텍스트 기반으로 메뉴를 추천해주는 것입니다.\\n실제 배달의민족 어플 내 주문이 가능한 메뉴 및 음식점을 추천해줘야 하며 단순한 메뉴명을 추천해줄 수 없습니다. (ex. 해장국, 파스타)\\n추천 가능한 메뉴는 recommend 함수를 통해 결과를 받아 올 수 있습니다.\\n당신은 사용자의 발화를 기반으로 메뉴 추천 API를 호출하여 API 결과를 기반으로 사용자에게 최상의 추천 결과를 제공해야 합니다.\\n\"},\n",
       " {'role': 'user', 'content': '안녕'},\n",
       " {'role': 'assistant',\n",
       "  'content': '안녕하세요! 무엇을 도와드릴까요? 해장이 필요하시거나 다이어트 중이신가요? 필요하신 메뉴가 있다면 말씀해 주세요! 적절한 메뉴를 추천해드리겠습니다.'},\n",
       " {'role': 'user', 'content': '해장 메뉴 추천해줄레?'},\n",
       " {'role': 'assistant',\n",
       "  'content': None,\n",
       "  'tool_calls': [{'id': 'call_eM0jjthCtKQdQJKVHxTGzNZe',\n",
       "    'type': 'function',\n",
       "    'function': {'name': 'recommend', 'arguments': '{\"query_text\":\"해장\"}'}}]}]"
      ]
     },
     "execution_count": 15,
     "metadata": {},
     "output_type": "execute_result"
    }
   ],
   "source": [
    "MESSAGES"
   ]
  },
  {
   "cell_type": "code",
   "execution_count": 17,
   "metadata": {},
   "outputs": [
    {
     "data": {
      "text/plain": [
       "[{'_id': '1133486_26',\n",
       "  'score': 0.5811076300414256,\n",
       "  'menu': '우동',\n",
       "  'restaurant': '중화요리현',\n",
       "  'url': 'https://www.yogiyo.co.kr/mobile/#/1133486/'},\n",
       " {'_id': '1015006_23',\n",
       "  'score': 0.5307030745275177,\n",
       "  'menu': '짬뽕',\n",
       "  'restaurant': '아성원',\n",
       "  'url': 'https://www.yogiyo.co.kr/mobile/#/1015006/'},\n",
       " {'_id': '25883_12',\n",
       "  'score': 0.5116151078788386,\n",
       "  'menu': '',\n",
       "  'restaurant': '중국성(가산동)',\n",
       "  'url': 'https://www.yogiyo.co.kr/mobile/#/25883/'},\n",
       " {'_id': '25883_11',\n",
       "  'score': 0.5069410369242237,\n",
       "  'menu': '짬뽕밥',\n",
       "  'restaurant': '중국성(가산동)',\n",
       "  'url': 'https://www.yogiyo.co.kr/mobile/#/25883/'},\n",
       " {'_id': '1359676_14',\n",
       "  'score': 0.49885010640655647,\n",
       "  'menu': '황치즈',\n",
       "  'restaurant': '옐로우캔-독산직영점',\n",
       "  'url': 'https://www.yogiyo.co.kr/mobile/#/1359676/'}]"
      ]
     },
     "execution_count": 17,
     "metadata": {},
     "output_type": "execute_result"
    }
   ],
   "source": [
    "tool_result[:5]"
   ]
  },
  {
   "cell_type": "code",
   "execution_count": 18,
   "metadata": {},
   "outputs": [],
   "source": [
    "MESSAGES.append({\n",
    "    \"role\": \"tool\",\n",
    "    \"content\": json.dumps(tool_result[:3], ensure_ascii=False),\n",
    "    \"tool_call_id\": tool_id\n",
    "})"
   ]
  },
  {
   "cell_type": "code",
   "execution_count": 19,
   "metadata": {},
   "outputs": [
    {
     "data": {
      "text/plain": [
       "[{'role': 'system',\n",
       "  'content': \"당신의 이름은 '메뉴뚝딱AI'이며 당신의 역할은 배달의민족이라는 음식 주문 모바일 어플에서 리뷰 텍스트 기반으로 메뉴를 추천해주는 것입니다.\\n실제 배달의민족 어플 내 주문이 가능한 메뉴 및 음식점을 추천해줘야 하며 단순한 메뉴명을 추천해줄 수 없습니다. (ex. 해장국, 파스타)\\n추천 가능한 메뉴는 recommend 함수를 통해 결과를 받아 올 수 있습니다.\\n당신은 사용자의 발화를 기반으로 메뉴 추천 API를 호출하여 API 결과를 기반으로 사용자에게 최상의 추천 결과를 제공해야 합니다.\\n\"},\n",
       " {'role': 'user', 'content': '안녕'},\n",
       " {'role': 'assistant',\n",
       "  'content': '안녕하세요! 무엇을 도와드릴까요? 해장이 필요하시거나 다이어트 중이신가요? 필요하신 메뉴가 있다면 말씀해 주세요! 적절한 메뉴를 추천해드리겠습니다.'},\n",
       " {'role': 'user', 'content': '해장 메뉴 추천해줄레?'},\n",
       " {'role': 'assistant',\n",
       "  'content': None,\n",
       "  'tool_calls': [{'id': 'call_eM0jjthCtKQdQJKVHxTGzNZe',\n",
       "    'type': 'function',\n",
       "    'function': {'name': 'recommend', 'arguments': '{\"query_text\":\"해장\"}'}}]},\n",
       " {'role': 'tool',\n",
       "  'content': '[{\"_id\": \"1133486_26\", \"score\": 0.5811076300414256, \"menu\": \"우동\", \"restaurant\": \"중화요리현\", \"url\": \"https://www.yogiyo.co.kr/mobile/#/1133486/\"}, {\"_id\": \"1015006_23\", \"score\": 0.5307030745275177, \"menu\": \"짬뽕\", \"restaurant\": \"아성원\", \"url\": \"https://www.yogiyo.co.kr/mobile/#/1015006/\"}, {\"_id\": \"25883_12\", \"score\": 0.5116151078788386, \"menu\": \"\", \"restaurant\": \"중국성(가산동)\", \"url\": \"https://www.yogiyo.co.kr/mobile/#/25883/\"}]',\n",
       "  'tool_call_id': 'call_eM0jjthCtKQdQJKVHxTGzNZe'}]"
      ]
     },
     "execution_count": 19,
     "metadata": {},
     "output_type": "execute_result"
    }
   ],
   "source": [
    "MESSAGES"
   ]
  },
  {
   "cell_type": "code",
   "execution_count": 20,
   "metadata": {},
   "outputs": [
    {
     "data": {
      "text/plain": [
       "ChatCompletion(id='chatcmpl-BScqO9pipPFaS8tm1Kh0PkP3PytVV', choices=[Choice(finish_reason='stop', index=0, logprobs=None, message=ChatCompletionMessage(content='해장을 위해 추천드리는 메뉴입니다:\\n\\n1. **우동** - [중화요리현](https://www.yogiyo.co.kr/mobile/#/1133486/)에서 주문 가능합니다.\\n2. **짬뽕** - [아성원](https://www.yogiyo.co.kr/mobile/#/1015006/)에서 즐기실 수 있어요.\\n3. 다양한 중화 요리를 위해 [중국성(가산동)](https://www.yogiyo.co.kr/mobile/#/25883/)을 방문해보세요.\\n\\n맛있는 식사 되세요! 필요하신 게 더 있으시면 말씀해 주세요.', refusal=None, role='assistant', function_call=None, tool_calls=None, annotations=[]))], created=1746162200, model='gpt-4o-2024-08-06', object='chat.completion', service_tier='default', system_fingerprint='fp_90122d973c', usage=CompletionUsage(completion_tokens=138, prompt_tokens=513, total_tokens=651, prompt_tokens_details={'cached_tokens': 0, 'audio_tokens': 0}, completion_tokens_details={'reasoning_tokens': 0, 'audio_tokens': 0, 'accepted_prediction_tokens': 0, 'rejected_prediction_tokens': 0}))"
      ]
     },
     "execution_count": 20,
     "metadata": {},
     "output_type": "execute_result"
    }
   ],
   "source": [
    "completion = client.chat.completions.create(\n",
    "    messages=MESSAGES,\n",
    "    model=\"gpt-4o-2024-08-06\",\n",
    "    tools=tools\n",
    ")\n",
    "completion"
   ]
  },
  {
   "cell_type": "code",
   "execution_count": 21,
   "metadata": {},
   "outputs": [],
   "source": [
    "MESSAGES.append(\n",
    "    {\"role\": \"assistant\", \"content\": completion.choices[0].message.content}\n",
    ")"
   ]
  },
  {
   "cell_type": "code",
   "execution_count": 22,
   "metadata": {},
   "outputs": [
    {
     "data": {
      "text/plain": [
       "[{'role': 'system',\n",
       "  'content': \"당신의 이름은 '메뉴뚝딱AI'이며 당신의 역할은 배달의민족이라는 음식 주문 모바일 어플에서 리뷰 텍스트 기반으로 메뉴를 추천해주는 것입니다.\\n실제 배달의민족 어플 내 주문이 가능한 메뉴 및 음식점을 추천해줘야 하며 단순한 메뉴명을 추천해줄 수 없습니다. (ex. 해장국, 파스타)\\n추천 가능한 메뉴는 recommend 함수를 통해 결과를 받아 올 수 있습니다.\\n당신은 사용자의 발화를 기반으로 메뉴 추천 API를 호출하여 API 결과를 기반으로 사용자에게 최상의 추천 결과를 제공해야 합니다.\\n\"},\n",
       " {'role': 'user', 'content': '안녕'},\n",
       " {'role': 'assistant',\n",
       "  'content': '안녕하세요! 무엇을 도와드릴까요? 해장이 필요하시거나 다이어트 중이신가요? 필요하신 메뉴가 있다면 말씀해 주세요! 적절한 메뉴를 추천해드리겠습니다.'},\n",
       " {'role': 'user', 'content': '해장 메뉴 추천해줄레?'},\n",
       " {'role': 'assistant',\n",
       "  'content': None,\n",
       "  'tool_calls': [{'id': 'call_eM0jjthCtKQdQJKVHxTGzNZe',\n",
       "    'type': 'function',\n",
       "    'function': {'name': 'recommend', 'arguments': '{\"query_text\":\"해장\"}'}}]},\n",
       " {'role': 'tool',\n",
       "  'content': '[{\"_id\": \"1133486_26\", \"score\": 0.5811076300414256, \"menu\": \"우동\", \"restaurant\": \"중화요리현\", \"url\": \"https://www.yogiyo.co.kr/mobile/#/1133486/\"}, {\"_id\": \"1015006_23\", \"score\": 0.5307030745275177, \"menu\": \"짬뽕\", \"restaurant\": \"아성원\", \"url\": \"https://www.yogiyo.co.kr/mobile/#/1015006/\"}, {\"_id\": \"25883_12\", \"score\": 0.5116151078788386, \"menu\": \"\", \"restaurant\": \"중국성(가산동)\", \"url\": \"https://www.yogiyo.co.kr/mobile/#/25883/\"}]',\n",
       "  'tool_call_id': 'call_eM0jjthCtKQdQJKVHxTGzNZe'},\n",
       " {'role': 'assistant',\n",
       "  'content': '해장을 위해 추천드리는 메뉴입니다:\\n\\n1. **우동** - [중화요리현](https://www.yogiyo.co.kr/mobile/#/1133486/)에서 주문 가능합니다.\\n2. **짬뽕** - [아성원](https://www.yogiyo.co.kr/mobile/#/1015006/)에서 즐기실 수 있어요.\\n3. 다양한 중화 요리를 위해 [중국성(가산동)](https://www.yogiyo.co.kr/mobile/#/25883/)을 방문해보세요.\\n\\n맛있는 식사 되세요! 필요하신 게 더 있으시면 말씀해 주세요.'}]"
      ]
     },
     "execution_count": 22,
     "metadata": {},
     "output_type": "execute_result"
    }
   ],
   "source": [
    "MESSAGES"
   ]
  },
  {
   "cell_type": "code",
   "execution_count": null,
   "metadata": {},
   "outputs": [],
   "source": []
  }
 ],
 "metadata": {
  "kernelspec": {
   "display_name": ".venv",
   "language": "python",
   "name": "python3"
  },
  "language_info": {
   "codemirror_mode": {
    "name": "ipython",
    "version": 3
   },
   "file_extension": ".py",
   "mimetype": "text/x-python",
   "name": "python",
   "nbconvert_exporter": "python",
   "pygments_lexer": "ipython3",
   "version": "3.12.9"
  }
 },
 "nbformat": 4,
 "nbformat_minor": 2
}
